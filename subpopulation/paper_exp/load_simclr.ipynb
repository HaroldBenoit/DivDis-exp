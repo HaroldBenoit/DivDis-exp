{
 "cells": [
  {
   "cell_type": "code",
   "execution_count": 2,
   "metadata": {},
   "outputs": [],
   "source": [
    "import torch\n",
    "import torchvision"
   ]
  },
  {
   "cell_type": "code",
   "execution_count": 3,
   "metadata": {},
   "outputs": [],
   "source": [
    "model = torchvision.models.resnet50()"
   ]
  },
  {
   "cell_type": "code",
   "execution_count": 5,
   "metadata": {},
   "outputs": [
    {
     "data": {
      "text/plain": [
       "odict_keys(['conv1.weight', 'bn1.weight', 'bn1.bias', 'bn1.running_mean', 'bn1.running_var', 'bn1.num_batches_tracked', 'layer1.0.conv1.weight', 'layer1.0.bn1.weight', 'layer1.0.bn1.bias', 'layer1.0.bn1.running_mean', 'layer1.0.bn1.running_var', 'layer1.0.bn1.num_batches_tracked', 'layer1.0.conv2.weight', 'layer1.0.bn2.weight', 'layer1.0.bn2.bias', 'layer1.0.bn2.running_mean', 'layer1.0.bn2.running_var', 'layer1.0.bn2.num_batches_tracked', 'layer1.0.conv3.weight', 'layer1.0.bn3.weight', 'layer1.0.bn3.bias', 'layer1.0.bn3.running_mean', 'layer1.0.bn3.running_var', 'layer1.0.bn3.num_batches_tracked', 'layer1.0.downsample.0.weight', 'layer1.0.downsample.1.weight', 'layer1.0.downsample.1.bias', 'layer1.0.downsample.1.running_mean', 'layer1.0.downsample.1.running_var', 'layer1.0.downsample.1.num_batches_tracked', 'layer1.1.conv1.weight', 'layer1.1.bn1.weight', 'layer1.1.bn1.bias', 'layer1.1.bn1.running_mean', 'layer1.1.bn1.running_var', 'layer1.1.bn1.num_batches_tracked', 'layer1.1.conv2.weight', 'layer1.1.bn2.weight', 'layer1.1.bn2.bias', 'layer1.1.bn2.running_mean', 'layer1.1.bn2.running_var', 'layer1.1.bn2.num_batches_tracked', 'layer1.1.conv3.weight', 'layer1.1.bn3.weight', 'layer1.1.bn3.bias', 'layer1.1.bn3.running_mean', 'layer1.1.bn3.running_var', 'layer1.1.bn3.num_batches_tracked', 'layer1.2.conv1.weight', 'layer1.2.bn1.weight', 'layer1.2.bn1.bias', 'layer1.2.bn1.running_mean', 'layer1.2.bn1.running_var', 'layer1.2.bn1.num_batches_tracked', 'layer1.2.conv2.weight', 'layer1.2.bn2.weight', 'layer1.2.bn2.bias', 'layer1.2.bn2.running_mean', 'layer1.2.bn2.running_var', 'layer1.2.bn2.num_batches_tracked', 'layer1.2.conv3.weight', 'layer1.2.bn3.weight', 'layer1.2.bn3.bias', 'layer1.2.bn3.running_mean', 'layer1.2.bn3.running_var', 'layer1.2.bn3.num_batches_tracked', 'layer2.0.conv1.weight', 'layer2.0.bn1.weight', 'layer2.0.bn1.bias', 'layer2.0.bn1.running_mean', 'layer2.0.bn1.running_var', 'layer2.0.bn1.num_batches_tracked', 'layer2.0.conv2.weight', 'layer2.0.bn2.weight', 'layer2.0.bn2.bias', 'layer2.0.bn2.running_mean', 'layer2.0.bn2.running_var', 'layer2.0.bn2.num_batches_tracked', 'layer2.0.conv3.weight', 'layer2.0.bn3.weight', 'layer2.0.bn3.bias', 'layer2.0.bn3.running_mean', 'layer2.0.bn3.running_var', 'layer2.0.bn3.num_batches_tracked', 'layer2.0.downsample.0.weight', 'layer2.0.downsample.1.weight', 'layer2.0.downsample.1.bias', 'layer2.0.downsample.1.running_mean', 'layer2.0.downsample.1.running_var', 'layer2.0.downsample.1.num_batches_tracked', 'layer2.1.conv1.weight', 'layer2.1.bn1.weight', 'layer2.1.bn1.bias', 'layer2.1.bn1.running_mean', 'layer2.1.bn1.running_var', 'layer2.1.bn1.num_batches_tracked', 'layer2.1.conv2.weight', 'layer2.1.bn2.weight', 'layer2.1.bn2.bias', 'layer2.1.bn2.running_mean', 'layer2.1.bn2.running_var', 'layer2.1.bn2.num_batches_tracked', 'layer2.1.conv3.weight', 'layer2.1.bn3.weight', 'layer2.1.bn3.bias', 'layer2.1.bn3.running_mean', 'layer2.1.bn3.running_var', 'layer2.1.bn3.num_batches_tracked', 'layer2.2.conv1.weight', 'layer2.2.bn1.weight', 'layer2.2.bn1.bias', 'layer2.2.bn1.running_mean', 'layer2.2.bn1.running_var', 'layer2.2.bn1.num_batches_tracked', 'layer2.2.conv2.weight', 'layer2.2.bn2.weight', 'layer2.2.bn2.bias', 'layer2.2.bn2.running_mean', 'layer2.2.bn2.running_var', 'layer2.2.bn2.num_batches_tracked', 'layer2.2.conv3.weight', 'layer2.2.bn3.weight', 'layer2.2.bn3.bias', 'layer2.2.bn3.running_mean', 'layer2.2.bn3.running_var', 'layer2.2.bn3.num_batches_tracked', 'layer2.3.conv1.weight', 'layer2.3.bn1.weight', 'layer2.3.bn1.bias', 'layer2.3.bn1.running_mean', 'layer2.3.bn1.running_var', 'layer2.3.bn1.num_batches_tracked', 'layer2.3.conv2.weight', 'layer2.3.bn2.weight', 'layer2.3.bn2.bias', 'layer2.3.bn2.running_mean', 'layer2.3.bn2.running_var', 'layer2.3.bn2.num_batches_tracked', 'layer2.3.conv3.weight', 'layer2.3.bn3.weight', 'layer2.3.bn3.bias', 'layer2.3.bn3.running_mean', 'layer2.3.bn3.running_var', 'layer2.3.bn3.num_batches_tracked', 'layer3.0.conv1.weight', 'layer3.0.bn1.weight', 'layer3.0.bn1.bias', 'layer3.0.bn1.running_mean', 'layer3.0.bn1.running_var', 'layer3.0.bn1.num_batches_tracked', 'layer3.0.conv2.weight', 'layer3.0.bn2.weight', 'layer3.0.bn2.bias', 'layer3.0.bn2.running_mean', 'layer3.0.bn2.running_var', 'layer3.0.bn2.num_batches_tracked', 'layer3.0.conv3.weight', 'layer3.0.bn3.weight', 'layer3.0.bn3.bias', 'layer3.0.bn3.running_mean', 'layer3.0.bn3.running_var', 'layer3.0.bn3.num_batches_tracked', 'layer3.0.downsample.0.weight', 'layer3.0.downsample.1.weight', 'layer3.0.downsample.1.bias', 'layer3.0.downsample.1.running_mean', 'layer3.0.downsample.1.running_var', 'layer3.0.downsample.1.num_batches_tracked', 'layer3.1.conv1.weight', 'layer3.1.bn1.weight', 'layer3.1.bn1.bias', 'layer3.1.bn1.running_mean', 'layer3.1.bn1.running_var', 'layer3.1.bn1.num_batches_tracked', 'layer3.1.conv2.weight', 'layer3.1.bn2.weight', 'layer3.1.bn2.bias', 'layer3.1.bn2.running_mean', 'layer3.1.bn2.running_var', 'layer3.1.bn2.num_batches_tracked', 'layer3.1.conv3.weight', 'layer3.1.bn3.weight', 'layer3.1.bn3.bias', 'layer3.1.bn3.running_mean', 'layer3.1.bn3.running_var', 'layer3.1.bn3.num_batches_tracked', 'layer3.2.conv1.weight', 'layer3.2.bn1.weight', 'layer3.2.bn1.bias', 'layer3.2.bn1.running_mean', 'layer3.2.bn1.running_var', 'layer3.2.bn1.num_batches_tracked', 'layer3.2.conv2.weight', 'layer3.2.bn2.weight', 'layer3.2.bn2.bias', 'layer3.2.bn2.running_mean', 'layer3.2.bn2.running_var', 'layer3.2.bn2.num_batches_tracked', 'layer3.2.conv3.weight', 'layer3.2.bn3.weight', 'layer3.2.bn3.bias', 'layer3.2.bn3.running_mean', 'layer3.2.bn3.running_var', 'layer3.2.bn3.num_batches_tracked', 'layer3.3.conv1.weight', 'layer3.3.bn1.weight', 'layer3.3.bn1.bias', 'layer3.3.bn1.running_mean', 'layer3.3.bn1.running_var', 'layer3.3.bn1.num_batches_tracked', 'layer3.3.conv2.weight', 'layer3.3.bn2.weight', 'layer3.3.bn2.bias', 'layer3.3.bn2.running_mean', 'layer3.3.bn2.running_var', 'layer3.3.bn2.num_batches_tracked', 'layer3.3.conv3.weight', 'layer3.3.bn3.weight', 'layer3.3.bn3.bias', 'layer3.3.bn3.running_mean', 'layer3.3.bn3.running_var', 'layer3.3.bn3.num_batches_tracked', 'layer3.4.conv1.weight', 'layer3.4.bn1.weight', 'layer3.4.bn1.bias', 'layer3.4.bn1.running_mean', 'layer3.4.bn1.running_var', 'layer3.4.bn1.num_batches_tracked', 'layer3.4.conv2.weight', 'layer3.4.bn2.weight', 'layer3.4.bn2.bias', 'layer3.4.bn2.running_mean', 'layer3.4.bn2.running_var', 'layer3.4.bn2.num_batches_tracked', 'layer3.4.conv3.weight', 'layer3.4.bn3.weight', 'layer3.4.bn3.bias', 'layer3.4.bn3.running_mean', 'layer3.4.bn3.running_var', 'layer3.4.bn3.num_batches_tracked', 'layer3.5.conv1.weight', 'layer3.5.bn1.weight', 'layer3.5.bn1.bias', 'layer3.5.bn1.running_mean', 'layer3.5.bn1.running_var', 'layer3.5.bn1.num_batches_tracked', 'layer3.5.conv2.weight', 'layer3.5.bn2.weight', 'layer3.5.bn2.bias', 'layer3.5.bn2.running_mean', 'layer3.5.bn2.running_var', 'layer3.5.bn2.num_batches_tracked', 'layer3.5.conv3.weight', 'layer3.5.bn3.weight', 'layer3.5.bn3.bias', 'layer3.5.bn3.running_mean', 'layer3.5.bn3.running_var', 'layer3.5.bn3.num_batches_tracked', 'layer4.0.conv1.weight', 'layer4.0.bn1.weight', 'layer4.0.bn1.bias', 'layer4.0.bn1.running_mean', 'layer4.0.bn1.running_var', 'layer4.0.bn1.num_batches_tracked', 'layer4.0.conv2.weight', 'layer4.0.bn2.weight', 'layer4.0.bn2.bias', 'layer4.0.bn2.running_mean', 'layer4.0.bn2.running_var', 'layer4.0.bn2.num_batches_tracked', 'layer4.0.conv3.weight', 'layer4.0.bn3.weight', 'layer4.0.bn3.bias', 'layer4.0.bn3.running_mean', 'layer4.0.bn3.running_var', 'layer4.0.bn3.num_batches_tracked', 'layer4.0.downsample.0.weight', 'layer4.0.downsample.1.weight', 'layer4.0.downsample.1.bias', 'layer4.0.downsample.1.running_mean', 'layer4.0.downsample.1.running_var', 'layer4.0.downsample.1.num_batches_tracked', 'layer4.1.conv1.weight', 'layer4.1.bn1.weight', 'layer4.1.bn1.bias', 'layer4.1.bn1.running_mean', 'layer4.1.bn1.running_var', 'layer4.1.bn1.num_batches_tracked', 'layer4.1.conv2.weight', 'layer4.1.bn2.weight', 'layer4.1.bn2.bias', 'layer4.1.bn2.running_mean', 'layer4.1.bn2.running_var', 'layer4.1.bn2.num_batches_tracked', 'layer4.1.conv3.weight', 'layer4.1.bn3.weight', 'layer4.1.bn3.bias', 'layer4.1.bn3.running_mean', 'layer4.1.bn3.running_var', 'layer4.1.bn3.num_batches_tracked', 'layer4.2.conv1.weight', 'layer4.2.bn1.weight', 'layer4.2.bn1.bias', 'layer4.2.bn1.running_mean', 'layer4.2.bn1.running_var', 'layer4.2.bn1.num_batches_tracked', 'layer4.2.conv2.weight', 'layer4.2.bn2.weight', 'layer4.2.bn2.bias', 'layer4.2.bn2.running_mean', 'layer4.2.bn2.running_var', 'layer4.2.bn2.num_batches_tracked', 'layer4.2.conv3.weight', 'layer4.2.bn3.weight', 'layer4.2.bn3.bias', 'layer4.2.bn3.running_mean', 'layer4.2.bn3.running_var', 'layer4.2.bn3.num_batches_tracked', 'fc.weight', 'fc.bias'])"
      ]
     },
     "execution_count": 5,
     "metadata": {},
     "output_type": "execute_result"
    }
   ],
   "source": [
    "model.state_dict().keys()"
   ]
  },
  {
   "cell_type": "code",
   "execution_count": 26,
   "metadata": {},
   "outputs": [
    {
     "data": {
      "text/plain": [
       "(torch.Size([3, 1, 1]), torch.Size([3, 1, 1]))"
      ]
     },
     "execution_count": 26,
     "metadata": {},
     "output_type": "execute_result"
    }
   ],
   "source": [
    "state[\"model\"][\"module.normalizer.new_mean\"].size(), state[\"model\"][\"module.normalizer.new_std\"].size()"
   ]
  },
  {
   "cell_type": "code",
   "execution_count": 56,
   "metadata": {},
   "outputs": [
    {
     "data": {
      "text/plain": [
       "<All keys matched successfully>"
      ]
     },
     "execution_count": 56,
     "metadata": {},
     "output_type": "execute_result"
    }
   ],
   "source": [
    "state = torch.load(\"/datasets/home/hbenoit/robust_resnet/resnet50_l2_eps0.05.ckpt\")\n",
    "model = RobustModel(torchvision.models.resnet50())\n",
    "new_state = {}\n",
    "for k in state[\"model\"]:\n",
    "    if \"attacker\" not in k:\n",
    "        new_state [k.replace(\"module.\",\"\")] = state[\"model\"][k]\n",
    "\n",
    "    \n",
    "model.load_state_dict(new_state)"
   ]
  },
  {
   "cell_type": "code",
   "execution_count": 58,
   "metadata": {},
   "outputs": [
    {
     "ename": "AttributeError",
     "evalue": "'RobustModel' object has no attribute 'fc'",
     "output_type": "error",
     "traceback": [
      "\u001b[0;31m---------------------------------------------------------------------------\u001b[0m",
      "\u001b[0;31mAttributeError\u001b[0m                            Traceback (most recent call last)",
      "\u001b[0;32m<ipython-input-58-ca343f58d0f7>\u001b[0m in \u001b[0;36m<module>\u001b[0;34m\u001b[0m\n\u001b[0;32m----> 1\u001b[0;31m \u001b[0mmodel\u001b[0m\u001b[0;34m.\u001b[0m\u001b[0mfc\u001b[0m\u001b[0;34m\u001b[0m\u001b[0;34m\u001b[0m\u001b[0m\n\u001b[0m",
      "\u001b[0;32m~/miniconda/envs/py38/lib/python3.8/site-packages/torch/nn/modules/module.py\u001b[0m in \u001b[0;36m__getattr__\u001b[0;34m(self, name)\u001b[0m\n\u001b[1;32m   1175\u001b[0m             \u001b[0;32mif\u001b[0m \u001b[0mname\u001b[0m \u001b[0;32min\u001b[0m \u001b[0mmodules\u001b[0m\u001b[0;34m:\u001b[0m\u001b[0;34m\u001b[0m\u001b[0;34m\u001b[0m\u001b[0m\n\u001b[1;32m   1176\u001b[0m                 \u001b[0;32mreturn\u001b[0m \u001b[0mmodules\u001b[0m\u001b[0;34m[\u001b[0m\u001b[0mname\u001b[0m\u001b[0;34m]\u001b[0m\u001b[0;34m\u001b[0m\u001b[0;34m\u001b[0m\u001b[0m\n\u001b[0;32m-> 1177\u001b[0;31m         raise AttributeError(\"'{}' object has no attribute '{}'\".format(\n\u001b[0m\u001b[1;32m   1178\u001b[0m             type(self).__name__, name))\n\u001b[1;32m   1179\u001b[0m \u001b[0;34m\u001b[0m\u001b[0m\n",
      "\u001b[0;31mAttributeError\u001b[0m: 'RobustModel' object has no attribute 'fc'"
     ]
    }
   ],
   "source": [
    "model.fc"
   ]
  },
  {
   "cell_type": "code",
   "execution_count": 38,
   "metadata": {},
   "outputs": [
    {
     "data": {
      "text/plain": [
       "322"
      ]
     },
     "execution_count": 38,
     "metadata": {},
     "output_type": "execute_result"
    }
   ],
   "source": [
    "len(model.state_dict().keys())"
   ]
  },
  {
   "cell_type": "code",
   "execution_count": 43,
   "metadata": {},
   "outputs": [
    {
     "data": {
      "text/plain": [
       "odict_keys(['module.normalizer.new_mean', 'module.normalizer.new_std', 'module.model.conv1.weight', 'module.model.bn1.weight', 'module.model.bn1.bias', 'module.model.bn1.running_mean', 'module.model.bn1.running_var', 'module.model.bn1.num_batches_tracked', 'module.model.layer1.0.conv1.weight', 'module.model.layer1.0.bn1.weight', 'module.model.layer1.0.bn1.bias', 'module.model.layer1.0.bn1.running_mean', 'module.model.layer1.0.bn1.running_var', 'module.model.layer1.0.bn1.num_batches_tracked', 'module.model.layer1.0.conv2.weight', 'module.model.layer1.0.bn2.weight', 'module.model.layer1.0.bn2.bias', 'module.model.layer1.0.bn2.running_mean', 'module.model.layer1.0.bn2.running_var', 'module.model.layer1.0.bn2.num_batches_tracked', 'module.model.layer1.0.conv3.weight', 'module.model.layer1.0.bn3.weight', 'module.model.layer1.0.bn3.bias', 'module.model.layer1.0.bn3.running_mean', 'module.model.layer1.0.bn3.running_var', 'module.model.layer1.0.bn3.num_batches_tracked', 'module.model.layer1.0.downsample.0.weight', 'module.model.layer1.0.downsample.1.weight', 'module.model.layer1.0.downsample.1.bias', 'module.model.layer1.0.downsample.1.running_mean', 'module.model.layer1.0.downsample.1.running_var', 'module.model.layer1.0.downsample.1.num_batches_tracked', 'module.model.layer1.1.conv1.weight', 'module.model.layer1.1.bn1.weight', 'module.model.layer1.1.bn1.bias', 'module.model.layer1.1.bn1.running_mean', 'module.model.layer1.1.bn1.running_var', 'module.model.layer1.1.bn1.num_batches_tracked', 'module.model.layer1.1.conv2.weight', 'module.model.layer1.1.bn2.weight', 'module.model.layer1.1.bn2.bias', 'module.model.layer1.1.bn2.running_mean', 'module.model.layer1.1.bn2.running_var', 'module.model.layer1.1.bn2.num_batches_tracked', 'module.model.layer1.1.conv3.weight', 'module.model.layer1.1.bn3.weight', 'module.model.layer1.1.bn3.bias', 'module.model.layer1.1.bn3.running_mean', 'module.model.layer1.1.bn3.running_var', 'module.model.layer1.1.bn3.num_batches_tracked', 'module.model.layer1.2.conv1.weight', 'module.model.layer1.2.bn1.weight', 'module.model.layer1.2.bn1.bias', 'module.model.layer1.2.bn1.running_mean', 'module.model.layer1.2.bn1.running_var', 'module.model.layer1.2.bn1.num_batches_tracked', 'module.model.layer1.2.conv2.weight', 'module.model.layer1.2.bn2.weight', 'module.model.layer1.2.bn2.bias', 'module.model.layer1.2.bn2.running_mean', 'module.model.layer1.2.bn2.running_var', 'module.model.layer1.2.bn2.num_batches_tracked', 'module.model.layer1.2.conv3.weight', 'module.model.layer1.2.bn3.weight', 'module.model.layer1.2.bn3.bias', 'module.model.layer1.2.bn3.running_mean', 'module.model.layer1.2.bn3.running_var', 'module.model.layer1.2.bn3.num_batches_tracked', 'module.model.layer2.0.conv1.weight', 'module.model.layer2.0.bn1.weight', 'module.model.layer2.0.bn1.bias', 'module.model.layer2.0.bn1.running_mean', 'module.model.layer2.0.bn1.running_var', 'module.model.layer2.0.bn1.num_batches_tracked', 'module.model.layer2.0.conv2.weight', 'module.model.layer2.0.bn2.weight', 'module.model.layer2.0.bn2.bias', 'module.model.layer2.0.bn2.running_mean', 'module.model.layer2.0.bn2.running_var', 'module.model.layer2.0.bn2.num_batches_tracked', 'module.model.layer2.0.conv3.weight', 'module.model.layer2.0.bn3.weight', 'module.model.layer2.0.bn3.bias', 'module.model.layer2.0.bn3.running_mean', 'module.model.layer2.0.bn3.running_var', 'module.model.layer2.0.bn3.num_batches_tracked', 'module.model.layer2.0.downsample.0.weight', 'module.model.layer2.0.downsample.1.weight', 'module.model.layer2.0.downsample.1.bias', 'module.model.layer2.0.downsample.1.running_mean', 'module.model.layer2.0.downsample.1.running_var', 'module.model.layer2.0.downsample.1.num_batches_tracked', 'module.model.layer2.1.conv1.weight', 'module.model.layer2.1.bn1.weight', 'module.model.layer2.1.bn1.bias', 'module.model.layer2.1.bn1.running_mean', 'module.model.layer2.1.bn1.running_var', 'module.model.layer2.1.bn1.num_batches_tracked', 'module.model.layer2.1.conv2.weight', 'module.model.layer2.1.bn2.weight', 'module.model.layer2.1.bn2.bias', 'module.model.layer2.1.bn2.running_mean', 'module.model.layer2.1.bn2.running_var', 'module.model.layer2.1.bn2.num_batches_tracked', 'module.model.layer2.1.conv3.weight', 'module.model.layer2.1.bn3.weight', 'module.model.layer2.1.bn3.bias', 'module.model.layer2.1.bn3.running_mean', 'module.model.layer2.1.bn3.running_var', 'module.model.layer2.1.bn3.num_batches_tracked', 'module.model.layer2.2.conv1.weight', 'module.model.layer2.2.bn1.weight', 'module.model.layer2.2.bn1.bias', 'module.model.layer2.2.bn1.running_mean', 'module.model.layer2.2.bn1.running_var', 'module.model.layer2.2.bn1.num_batches_tracked', 'module.model.layer2.2.conv2.weight', 'module.model.layer2.2.bn2.weight', 'module.model.layer2.2.bn2.bias', 'module.model.layer2.2.bn2.running_mean', 'module.model.layer2.2.bn2.running_var', 'module.model.layer2.2.bn2.num_batches_tracked', 'module.model.layer2.2.conv3.weight', 'module.model.layer2.2.bn3.weight', 'module.model.layer2.2.bn3.bias', 'module.model.layer2.2.bn3.running_mean', 'module.model.layer2.2.bn3.running_var', 'module.model.layer2.2.bn3.num_batches_tracked', 'module.model.layer2.3.conv1.weight', 'module.model.layer2.3.bn1.weight', 'module.model.layer2.3.bn1.bias', 'module.model.layer2.3.bn1.running_mean', 'module.model.layer2.3.bn1.running_var', 'module.model.layer2.3.bn1.num_batches_tracked', 'module.model.layer2.3.conv2.weight', 'module.model.layer2.3.bn2.weight', 'module.model.layer2.3.bn2.bias', 'module.model.layer2.3.bn2.running_mean', 'module.model.layer2.3.bn2.running_var', 'module.model.layer2.3.bn2.num_batches_tracked', 'module.model.layer2.3.conv3.weight', 'module.model.layer2.3.bn3.weight', 'module.model.layer2.3.bn3.bias', 'module.model.layer2.3.bn3.running_mean', 'module.model.layer2.3.bn3.running_var', 'module.model.layer2.3.bn3.num_batches_tracked', 'module.model.layer3.0.conv1.weight', 'module.model.layer3.0.bn1.weight', 'module.model.layer3.0.bn1.bias', 'module.model.layer3.0.bn1.running_mean', 'module.model.layer3.0.bn1.running_var', 'module.model.layer3.0.bn1.num_batches_tracked', 'module.model.layer3.0.conv2.weight', 'module.model.layer3.0.bn2.weight', 'module.model.layer3.0.bn2.bias', 'module.model.layer3.0.bn2.running_mean', 'module.model.layer3.0.bn2.running_var', 'module.model.layer3.0.bn2.num_batches_tracked', 'module.model.layer3.0.conv3.weight', 'module.model.layer3.0.bn3.weight', 'module.model.layer3.0.bn3.bias', 'module.model.layer3.0.bn3.running_mean', 'module.model.layer3.0.bn3.running_var', 'module.model.layer3.0.bn3.num_batches_tracked', 'module.model.layer3.0.downsample.0.weight', 'module.model.layer3.0.downsample.1.weight', 'module.model.layer3.0.downsample.1.bias', 'module.model.layer3.0.downsample.1.running_mean', 'module.model.layer3.0.downsample.1.running_var', 'module.model.layer3.0.downsample.1.num_batches_tracked', 'module.model.layer3.1.conv1.weight', 'module.model.layer3.1.bn1.weight', 'module.model.layer3.1.bn1.bias', 'module.model.layer3.1.bn1.running_mean', 'module.model.layer3.1.bn1.running_var', 'module.model.layer3.1.bn1.num_batches_tracked', 'module.model.layer3.1.conv2.weight', 'module.model.layer3.1.bn2.weight', 'module.model.layer3.1.bn2.bias', 'module.model.layer3.1.bn2.running_mean', 'module.model.layer3.1.bn2.running_var', 'module.model.layer3.1.bn2.num_batches_tracked', 'module.model.layer3.1.conv3.weight', 'module.model.layer3.1.bn3.weight', 'module.model.layer3.1.bn3.bias', 'module.model.layer3.1.bn3.running_mean', 'module.model.layer3.1.bn3.running_var', 'module.model.layer3.1.bn3.num_batches_tracked', 'module.model.layer3.2.conv1.weight', 'module.model.layer3.2.bn1.weight', 'module.model.layer3.2.bn1.bias', 'module.model.layer3.2.bn1.running_mean', 'module.model.layer3.2.bn1.running_var', 'module.model.layer3.2.bn1.num_batches_tracked', 'module.model.layer3.2.conv2.weight', 'module.model.layer3.2.bn2.weight', 'module.model.layer3.2.bn2.bias', 'module.model.layer3.2.bn2.running_mean', 'module.model.layer3.2.bn2.running_var', 'module.model.layer3.2.bn2.num_batches_tracked', 'module.model.layer3.2.conv3.weight', 'module.model.layer3.2.bn3.weight', 'module.model.layer3.2.bn3.bias', 'module.model.layer3.2.bn3.running_mean', 'module.model.layer3.2.bn3.running_var', 'module.model.layer3.2.bn3.num_batches_tracked', 'module.model.layer3.3.conv1.weight', 'module.model.layer3.3.bn1.weight', 'module.model.layer3.3.bn1.bias', 'module.model.layer3.3.bn1.running_mean', 'module.model.layer3.3.bn1.running_var', 'module.model.layer3.3.bn1.num_batches_tracked', 'module.model.layer3.3.conv2.weight', 'module.model.layer3.3.bn2.weight', 'module.model.layer3.3.bn2.bias', 'module.model.layer3.3.bn2.running_mean', 'module.model.layer3.3.bn2.running_var', 'module.model.layer3.3.bn2.num_batches_tracked', 'module.model.layer3.3.conv3.weight', 'module.model.layer3.3.bn3.weight', 'module.model.layer3.3.bn3.bias', 'module.model.layer3.3.bn3.running_mean', 'module.model.layer3.3.bn3.running_var', 'module.model.layer3.3.bn3.num_batches_tracked', 'module.model.layer3.4.conv1.weight', 'module.model.layer3.4.bn1.weight', 'module.model.layer3.4.bn1.bias', 'module.model.layer3.4.bn1.running_mean', 'module.model.layer3.4.bn1.running_var', 'module.model.layer3.4.bn1.num_batches_tracked', 'module.model.layer3.4.conv2.weight', 'module.model.layer3.4.bn2.weight', 'module.model.layer3.4.bn2.bias', 'module.model.layer3.4.bn2.running_mean', 'module.model.layer3.4.bn2.running_var', 'module.model.layer3.4.bn2.num_batches_tracked', 'module.model.layer3.4.conv3.weight', 'module.model.layer3.4.bn3.weight', 'module.model.layer3.4.bn3.bias', 'module.model.layer3.4.bn3.running_mean', 'module.model.layer3.4.bn3.running_var', 'module.model.layer3.4.bn3.num_batches_tracked', 'module.model.layer3.5.conv1.weight', 'module.model.layer3.5.bn1.weight', 'module.model.layer3.5.bn1.bias', 'module.model.layer3.5.bn1.running_mean', 'module.model.layer3.5.bn1.running_var', 'module.model.layer3.5.bn1.num_batches_tracked', 'module.model.layer3.5.conv2.weight', 'module.model.layer3.5.bn2.weight', 'module.model.layer3.5.bn2.bias', 'module.model.layer3.5.bn2.running_mean', 'module.model.layer3.5.bn2.running_var', 'module.model.layer3.5.bn2.num_batches_tracked', 'module.model.layer3.5.conv3.weight', 'module.model.layer3.5.bn3.weight', 'module.model.layer3.5.bn3.bias', 'module.model.layer3.5.bn3.running_mean', 'module.model.layer3.5.bn3.running_var', 'module.model.layer3.5.bn3.num_batches_tracked', 'module.model.layer4.0.conv1.weight', 'module.model.layer4.0.bn1.weight', 'module.model.layer4.0.bn1.bias', 'module.model.layer4.0.bn1.running_mean', 'module.model.layer4.0.bn1.running_var', 'module.model.layer4.0.bn1.num_batches_tracked', 'module.model.layer4.0.conv2.weight', 'module.model.layer4.0.bn2.weight', 'module.model.layer4.0.bn2.bias', 'module.model.layer4.0.bn2.running_mean', 'module.model.layer4.0.bn2.running_var', 'module.model.layer4.0.bn2.num_batches_tracked', 'module.model.layer4.0.conv3.weight', 'module.model.layer4.0.bn3.weight', 'module.model.layer4.0.bn3.bias', 'module.model.layer4.0.bn3.running_mean', 'module.model.layer4.0.bn3.running_var', 'module.model.layer4.0.bn3.num_batches_tracked', 'module.model.layer4.0.downsample.0.weight', 'module.model.layer4.0.downsample.1.weight', 'module.model.layer4.0.downsample.1.bias', 'module.model.layer4.0.downsample.1.running_mean', 'module.model.layer4.0.downsample.1.running_var', 'module.model.layer4.0.downsample.1.num_batches_tracked', 'module.model.layer4.1.conv1.weight', 'module.model.layer4.1.bn1.weight', 'module.model.layer4.1.bn1.bias', 'module.model.layer4.1.bn1.running_mean', 'module.model.layer4.1.bn1.running_var', 'module.model.layer4.1.bn1.num_batches_tracked', 'module.model.layer4.1.conv2.weight', 'module.model.layer4.1.bn2.weight', 'module.model.layer4.1.bn2.bias', 'module.model.layer4.1.bn2.running_mean', 'module.model.layer4.1.bn2.running_var', 'module.model.layer4.1.bn2.num_batches_tracked', 'module.model.layer4.1.conv3.weight', 'module.model.layer4.1.bn3.weight', 'module.model.layer4.1.bn3.bias', 'module.model.layer4.1.bn3.running_mean', 'module.model.layer4.1.bn3.running_var', 'module.model.layer4.1.bn3.num_batches_tracked', 'module.model.layer4.2.conv1.weight', 'module.model.layer4.2.bn1.weight', 'module.model.layer4.2.bn1.bias', 'module.model.layer4.2.bn1.running_mean', 'module.model.layer4.2.bn1.running_var', 'module.model.layer4.2.bn1.num_batches_tracked', 'module.model.layer4.2.conv2.weight', 'module.model.layer4.2.bn2.weight', 'module.model.layer4.2.bn2.bias', 'module.model.layer4.2.bn2.running_mean', 'module.model.layer4.2.bn2.running_var', 'module.model.layer4.2.bn2.num_batches_tracked', 'module.model.layer4.2.conv3.weight', 'module.model.layer4.2.bn3.weight', 'module.model.layer4.2.bn3.bias', 'module.model.layer4.2.bn3.running_mean', 'module.model.layer4.2.bn3.running_var', 'module.model.layer4.2.bn3.num_batches_tracked', 'module.model.fc.weight', 'module.model.fc.bias', 'module.attacker.normalize.new_mean', 'module.attacker.normalize.new_std', 'module.attacker.model.conv1.weight', 'module.attacker.model.bn1.weight', 'module.attacker.model.bn1.bias', 'module.attacker.model.bn1.running_mean', 'module.attacker.model.bn1.running_var', 'module.attacker.model.bn1.num_batches_tracked', 'module.attacker.model.layer1.0.conv1.weight', 'module.attacker.model.layer1.0.bn1.weight', 'module.attacker.model.layer1.0.bn1.bias', 'module.attacker.model.layer1.0.bn1.running_mean', 'module.attacker.model.layer1.0.bn1.running_var', 'module.attacker.model.layer1.0.bn1.num_batches_tracked', 'module.attacker.model.layer1.0.conv2.weight', 'module.attacker.model.layer1.0.bn2.weight', 'module.attacker.model.layer1.0.bn2.bias', 'module.attacker.model.layer1.0.bn2.running_mean', 'module.attacker.model.layer1.0.bn2.running_var', 'module.attacker.model.layer1.0.bn2.num_batches_tracked', 'module.attacker.model.layer1.0.conv3.weight', 'module.attacker.model.layer1.0.bn3.weight', 'module.attacker.model.layer1.0.bn3.bias', 'module.attacker.model.layer1.0.bn3.running_mean', 'module.attacker.model.layer1.0.bn3.running_var', 'module.attacker.model.layer1.0.bn3.num_batches_tracked', 'module.attacker.model.layer1.0.downsample.0.weight', 'module.attacker.model.layer1.0.downsample.1.weight', 'module.attacker.model.layer1.0.downsample.1.bias', 'module.attacker.model.layer1.0.downsample.1.running_mean', 'module.attacker.model.layer1.0.downsample.1.running_var', 'module.attacker.model.layer1.0.downsample.1.num_batches_tracked', 'module.attacker.model.layer1.1.conv1.weight', 'module.attacker.model.layer1.1.bn1.weight', 'module.attacker.model.layer1.1.bn1.bias', 'module.attacker.model.layer1.1.bn1.running_mean', 'module.attacker.model.layer1.1.bn1.running_var', 'module.attacker.model.layer1.1.bn1.num_batches_tracked', 'module.attacker.model.layer1.1.conv2.weight', 'module.attacker.model.layer1.1.bn2.weight', 'module.attacker.model.layer1.1.bn2.bias', 'module.attacker.model.layer1.1.bn2.running_mean', 'module.attacker.model.layer1.1.bn2.running_var', 'module.attacker.model.layer1.1.bn2.num_batches_tracked', 'module.attacker.model.layer1.1.conv3.weight', 'module.attacker.model.layer1.1.bn3.weight', 'module.attacker.model.layer1.1.bn3.bias', 'module.attacker.model.layer1.1.bn3.running_mean', 'module.attacker.model.layer1.1.bn3.running_var', 'module.attacker.model.layer1.1.bn3.num_batches_tracked', 'module.attacker.model.layer1.2.conv1.weight', 'module.attacker.model.layer1.2.bn1.weight', 'module.attacker.model.layer1.2.bn1.bias', 'module.attacker.model.layer1.2.bn1.running_mean', 'module.attacker.model.layer1.2.bn1.running_var', 'module.attacker.model.layer1.2.bn1.num_batches_tracked', 'module.attacker.model.layer1.2.conv2.weight', 'module.attacker.model.layer1.2.bn2.weight', 'module.attacker.model.layer1.2.bn2.bias', 'module.attacker.model.layer1.2.bn2.running_mean', 'module.attacker.model.layer1.2.bn2.running_var', 'module.attacker.model.layer1.2.bn2.num_batches_tracked', 'module.attacker.model.layer1.2.conv3.weight', 'module.attacker.model.layer1.2.bn3.weight', 'module.attacker.model.layer1.2.bn3.bias', 'module.attacker.model.layer1.2.bn3.running_mean', 'module.attacker.model.layer1.2.bn3.running_var', 'module.attacker.model.layer1.2.bn3.num_batches_tracked', 'module.attacker.model.layer2.0.conv1.weight', 'module.attacker.model.layer2.0.bn1.weight', 'module.attacker.model.layer2.0.bn1.bias', 'module.attacker.model.layer2.0.bn1.running_mean', 'module.attacker.model.layer2.0.bn1.running_var', 'module.attacker.model.layer2.0.bn1.num_batches_tracked', 'module.attacker.model.layer2.0.conv2.weight', 'module.attacker.model.layer2.0.bn2.weight', 'module.attacker.model.layer2.0.bn2.bias', 'module.attacker.model.layer2.0.bn2.running_mean', 'module.attacker.model.layer2.0.bn2.running_var', 'module.attacker.model.layer2.0.bn2.num_batches_tracked', 'module.attacker.model.layer2.0.conv3.weight', 'module.attacker.model.layer2.0.bn3.weight', 'module.attacker.model.layer2.0.bn3.bias', 'module.attacker.model.layer2.0.bn3.running_mean', 'module.attacker.model.layer2.0.bn3.running_var', 'module.attacker.model.layer2.0.bn3.num_batches_tracked', 'module.attacker.model.layer2.0.downsample.0.weight', 'module.attacker.model.layer2.0.downsample.1.weight', 'module.attacker.model.layer2.0.downsample.1.bias', 'module.attacker.model.layer2.0.downsample.1.running_mean', 'module.attacker.model.layer2.0.downsample.1.running_var', 'module.attacker.model.layer2.0.downsample.1.num_batches_tracked', 'module.attacker.model.layer2.1.conv1.weight', 'module.attacker.model.layer2.1.bn1.weight', 'module.attacker.model.layer2.1.bn1.bias', 'module.attacker.model.layer2.1.bn1.running_mean', 'module.attacker.model.layer2.1.bn1.running_var', 'module.attacker.model.layer2.1.bn1.num_batches_tracked', 'module.attacker.model.layer2.1.conv2.weight', 'module.attacker.model.layer2.1.bn2.weight', 'module.attacker.model.layer2.1.bn2.bias', 'module.attacker.model.layer2.1.bn2.running_mean', 'module.attacker.model.layer2.1.bn2.running_var', 'module.attacker.model.layer2.1.bn2.num_batches_tracked', 'module.attacker.model.layer2.1.conv3.weight', 'module.attacker.model.layer2.1.bn3.weight', 'module.attacker.model.layer2.1.bn3.bias', 'module.attacker.model.layer2.1.bn3.running_mean', 'module.attacker.model.layer2.1.bn3.running_var', 'module.attacker.model.layer2.1.bn3.num_batches_tracked', 'module.attacker.model.layer2.2.conv1.weight', 'module.attacker.model.layer2.2.bn1.weight', 'module.attacker.model.layer2.2.bn1.bias', 'module.attacker.model.layer2.2.bn1.running_mean', 'module.attacker.model.layer2.2.bn1.running_var', 'module.attacker.model.layer2.2.bn1.num_batches_tracked', 'module.attacker.model.layer2.2.conv2.weight', 'module.attacker.model.layer2.2.bn2.weight', 'module.attacker.model.layer2.2.bn2.bias', 'module.attacker.model.layer2.2.bn2.running_mean', 'module.attacker.model.layer2.2.bn2.running_var', 'module.attacker.model.layer2.2.bn2.num_batches_tracked', 'module.attacker.model.layer2.2.conv3.weight', 'module.attacker.model.layer2.2.bn3.weight', 'module.attacker.model.layer2.2.bn3.bias', 'module.attacker.model.layer2.2.bn3.running_mean', 'module.attacker.model.layer2.2.bn3.running_var', 'module.attacker.model.layer2.2.bn3.num_batches_tracked', 'module.attacker.model.layer2.3.conv1.weight', 'module.attacker.model.layer2.3.bn1.weight', 'module.attacker.model.layer2.3.bn1.bias', 'module.attacker.model.layer2.3.bn1.running_mean', 'module.attacker.model.layer2.3.bn1.running_var', 'module.attacker.model.layer2.3.bn1.num_batches_tracked', 'module.attacker.model.layer2.3.conv2.weight', 'module.attacker.model.layer2.3.bn2.weight', 'module.attacker.model.layer2.3.bn2.bias', 'module.attacker.model.layer2.3.bn2.running_mean', 'module.attacker.model.layer2.3.bn2.running_var', 'module.attacker.model.layer2.3.bn2.num_batches_tracked', 'module.attacker.model.layer2.3.conv3.weight', 'module.attacker.model.layer2.3.bn3.weight', 'module.attacker.model.layer2.3.bn3.bias', 'module.attacker.model.layer2.3.bn3.running_mean', 'module.attacker.model.layer2.3.bn3.running_var', 'module.attacker.model.layer2.3.bn3.num_batches_tracked', 'module.attacker.model.layer3.0.conv1.weight', 'module.attacker.model.layer3.0.bn1.weight', 'module.attacker.model.layer3.0.bn1.bias', 'module.attacker.model.layer3.0.bn1.running_mean', 'module.attacker.model.layer3.0.bn1.running_var', 'module.attacker.model.layer3.0.bn1.num_batches_tracked', 'module.attacker.model.layer3.0.conv2.weight', 'module.attacker.model.layer3.0.bn2.weight', 'module.attacker.model.layer3.0.bn2.bias', 'module.attacker.model.layer3.0.bn2.running_mean', 'module.attacker.model.layer3.0.bn2.running_var', 'module.attacker.model.layer3.0.bn2.num_batches_tracked', 'module.attacker.model.layer3.0.conv3.weight', 'module.attacker.model.layer3.0.bn3.weight', 'module.attacker.model.layer3.0.bn3.bias', 'module.attacker.model.layer3.0.bn3.running_mean', 'module.attacker.model.layer3.0.bn3.running_var', 'module.attacker.model.layer3.0.bn3.num_batches_tracked', 'module.attacker.model.layer3.0.downsample.0.weight', 'module.attacker.model.layer3.0.downsample.1.weight', 'module.attacker.model.layer3.0.downsample.1.bias', 'module.attacker.model.layer3.0.downsample.1.running_mean', 'module.attacker.model.layer3.0.downsample.1.running_var', 'module.attacker.model.layer3.0.downsample.1.num_batches_tracked', 'module.attacker.model.layer3.1.conv1.weight', 'module.attacker.model.layer3.1.bn1.weight', 'module.attacker.model.layer3.1.bn1.bias', 'module.attacker.model.layer3.1.bn1.running_mean', 'module.attacker.model.layer3.1.bn1.running_var', 'module.attacker.model.layer3.1.bn1.num_batches_tracked', 'module.attacker.model.layer3.1.conv2.weight', 'module.attacker.model.layer3.1.bn2.weight', 'module.attacker.model.layer3.1.bn2.bias', 'module.attacker.model.layer3.1.bn2.running_mean', 'module.attacker.model.layer3.1.bn2.running_var', 'module.attacker.model.layer3.1.bn2.num_batches_tracked', 'module.attacker.model.layer3.1.conv3.weight', 'module.attacker.model.layer3.1.bn3.weight', 'module.attacker.model.layer3.1.bn3.bias', 'module.attacker.model.layer3.1.bn3.running_mean', 'module.attacker.model.layer3.1.bn3.running_var', 'module.attacker.model.layer3.1.bn3.num_batches_tracked', 'module.attacker.model.layer3.2.conv1.weight', 'module.attacker.model.layer3.2.bn1.weight', 'module.attacker.model.layer3.2.bn1.bias', 'module.attacker.model.layer3.2.bn1.running_mean', 'module.attacker.model.layer3.2.bn1.running_var', 'module.attacker.model.layer3.2.bn1.num_batches_tracked', 'module.attacker.model.layer3.2.conv2.weight', 'module.attacker.model.layer3.2.bn2.weight', 'module.attacker.model.layer3.2.bn2.bias', 'module.attacker.model.layer3.2.bn2.running_mean', 'module.attacker.model.layer3.2.bn2.running_var', 'module.attacker.model.layer3.2.bn2.num_batches_tracked', 'module.attacker.model.layer3.2.conv3.weight', 'module.attacker.model.layer3.2.bn3.weight', 'module.attacker.model.layer3.2.bn3.bias', 'module.attacker.model.layer3.2.bn3.running_mean', 'module.attacker.model.layer3.2.bn3.running_var', 'module.attacker.model.layer3.2.bn3.num_batches_tracked', 'module.attacker.model.layer3.3.conv1.weight', 'module.attacker.model.layer3.3.bn1.weight', 'module.attacker.model.layer3.3.bn1.bias', 'module.attacker.model.layer3.3.bn1.running_mean', 'module.attacker.model.layer3.3.bn1.running_var', 'module.attacker.model.layer3.3.bn1.num_batches_tracked', 'module.attacker.model.layer3.3.conv2.weight', 'module.attacker.model.layer3.3.bn2.weight', 'module.attacker.model.layer3.3.bn2.bias', 'module.attacker.model.layer3.3.bn2.running_mean', 'module.attacker.model.layer3.3.bn2.running_var', 'module.attacker.model.layer3.3.bn2.num_batches_tracked', 'module.attacker.model.layer3.3.conv3.weight', 'module.attacker.model.layer3.3.bn3.weight', 'module.attacker.model.layer3.3.bn3.bias', 'module.attacker.model.layer3.3.bn3.running_mean', 'module.attacker.model.layer3.3.bn3.running_var', 'module.attacker.model.layer3.3.bn3.num_batches_tracked', 'module.attacker.model.layer3.4.conv1.weight', 'module.attacker.model.layer3.4.bn1.weight', 'module.attacker.model.layer3.4.bn1.bias', 'module.attacker.model.layer3.4.bn1.running_mean', 'module.attacker.model.layer3.4.bn1.running_var', 'module.attacker.model.layer3.4.bn1.num_batches_tracked', 'module.attacker.model.layer3.4.conv2.weight', 'module.attacker.model.layer3.4.bn2.weight', 'module.attacker.model.layer3.4.bn2.bias', 'module.attacker.model.layer3.4.bn2.running_mean', 'module.attacker.model.layer3.4.bn2.running_var', 'module.attacker.model.layer3.4.bn2.num_batches_tracked', 'module.attacker.model.layer3.4.conv3.weight', 'module.attacker.model.layer3.4.bn3.weight', 'module.attacker.model.layer3.4.bn3.bias', 'module.attacker.model.layer3.4.bn3.running_mean', 'module.attacker.model.layer3.4.bn3.running_var', 'module.attacker.model.layer3.4.bn3.num_batches_tracked', 'module.attacker.model.layer3.5.conv1.weight', 'module.attacker.model.layer3.5.bn1.weight', 'module.attacker.model.layer3.5.bn1.bias', 'module.attacker.model.layer3.5.bn1.running_mean', 'module.attacker.model.layer3.5.bn1.running_var', 'module.attacker.model.layer3.5.bn1.num_batches_tracked', 'module.attacker.model.layer3.5.conv2.weight', 'module.attacker.model.layer3.5.bn2.weight', 'module.attacker.model.layer3.5.bn2.bias', 'module.attacker.model.layer3.5.bn2.running_mean', 'module.attacker.model.layer3.5.bn2.running_var', 'module.attacker.model.layer3.5.bn2.num_batches_tracked', 'module.attacker.model.layer3.5.conv3.weight', 'module.attacker.model.layer3.5.bn3.weight', 'module.attacker.model.layer3.5.bn3.bias', 'module.attacker.model.layer3.5.bn3.running_mean', 'module.attacker.model.layer3.5.bn3.running_var', 'module.attacker.model.layer3.5.bn3.num_batches_tracked', 'module.attacker.model.layer4.0.conv1.weight', 'module.attacker.model.layer4.0.bn1.weight', 'module.attacker.model.layer4.0.bn1.bias', 'module.attacker.model.layer4.0.bn1.running_mean', 'module.attacker.model.layer4.0.bn1.running_var', 'module.attacker.model.layer4.0.bn1.num_batches_tracked', 'module.attacker.model.layer4.0.conv2.weight', 'module.attacker.model.layer4.0.bn2.weight', 'module.attacker.model.layer4.0.bn2.bias', 'module.attacker.model.layer4.0.bn2.running_mean', 'module.attacker.model.layer4.0.bn2.running_var', 'module.attacker.model.layer4.0.bn2.num_batches_tracked', 'module.attacker.model.layer4.0.conv3.weight', 'module.attacker.model.layer4.0.bn3.weight', 'module.attacker.model.layer4.0.bn3.bias', 'module.attacker.model.layer4.0.bn3.running_mean', 'module.attacker.model.layer4.0.bn3.running_var', 'module.attacker.model.layer4.0.bn3.num_batches_tracked', 'module.attacker.model.layer4.0.downsample.0.weight', 'module.attacker.model.layer4.0.downsample.1.weight', 'module.attacker.model.layer4.0.downsample.1.bias', 'module.attacker.model.layer4.0.downsample.1.running_mean', 'module.attacker.model.layer4.0.downsample.1.running_var', 'module.attacker.model.layer4.0.downsample.1.num_batches_tracked', 'module.attacker.model.layer4.1.conv1.weight', 'module.attacker.model.layer4.1.bn1.weight', 'module.attacker.model.layer4.1.bn1.bias', 'module.attacker.model.layer4.1.bn1.running_mean', 'module.attacker.model.layer4.1.bn1.running_var', 'module.attacker.model.layer4.1.bn1.num_batches_tracked', 'module.attacker.model.layer4.1.conv2.weight', 'module.attacker.model.layer4.1.bn2.weight', 'module.attacker.model.layer4.1.bn2.bias', 'module.attacker.model.layer4.1.bn2.running_mean', 'module.attacker.model.layer4.1.bn2.running_var', 'module.attacker.model.layer4.1.bn2.num_batches_tracked', 'module.attacker.model.layer4.1.conv3.weight', 'module.attacker.model.layer4.1.bn3.weight', 'module.attacker.model.layer4.1.bn3.bias', 'module.attacker.model.layer4.1.bn3.running_mean', 'module.attacker.model.layer4.1.bn3.running_var', 'module.attacker.model.layer4.1.bn3.num_batches_tracked', 'module.attacker.model.layer4.2.conv1.weight', 'module.attacker.model.layer4.2.bn1.weight', 'module.attacker.model.layer4.2.bn1.bias', 'module.attacker.model.layer4.2.bn1.running_mean', 'module.attacker.model.layer4.2.bn1.running_var', 'module.attacker.model.layer4.2.bn1.num_batches_tracked', 'module.attacker.model.layer4.2.conv2.weight', 'module.attacker.model.layer4.2.bn2.weight', 'module.attacker.model.layer4.2.bn2.bias', 'module.attacker.model.layer4.2.bn2.running_mean', 'module.attacker.model.layer4.2.bn2.running_var', 'module.attacker.model.layer4.2.bn2.num_batches_tracked', 'module.attacker.model.layer4.2.conv3.weight', 'module.attacker.model.layer4.2.bn3.weight', 'module.attacker.model.layer4.2.bn3.bias', 'module.attacker.model.layer4.2.bn3.running_mean', 'module.attacker.model.layer4.2.bn3.running_var', 'module.attacker.model.layer4.2.bn3.num_batches_tracked', 'module.attacker.model.fc.weight', 'module.attacker.model.fc.bias'])"
      ]
     },
     "execution_count": 43,
     "metadata": {},
     "output_type": "execute_result"
    }
   ],
   "source": [
    "state[\"model\"].keys()"
   ]
  },
  {
   "cell_type": "code",
   "execution_count": 50,
   "metadata": {},
   "outputs": [
    {
     "data": {
      "text/plain": [
       "(tensor([[[ 0.0174, -0.0063, -0.0380, -0.0682, -0.0581, -0.0089,  0.0340],\n",
       "          [-0.0154, -0.0424, -0.0862, -0.1375, -0.1518, -0.1141, -0.0547],\n",
       "          [ 0.0150,  0.0106, -0.0187, -0.0729, -0.1099, -0.1025, -0.0660],\n",
       "          [ 0.0463,  0.0699,  0.0720,  0.0330, -0.0268, -0.0492, -0.0463],\n",
       "          [ 0.0625,  0.1078,  0.1262,  0.1170,  0.0724,  0.0431,  0.0202],\n",
       "          [ 0.0077,  0.0612,  0.1014,  0.1286,  0.0966,  0.0570,  0.0223],\n",
       "          [-0.0597, -0.0169,  0.0294,  0.0671,  0.0528,  0.0344,  0.0115]],\n",
       " \n",
       "         [[ 0.0122, -0.0237, -0.0598, -0.0970, -0.0814, -0.0286,  0.0210],\n",
       "          [-0.0292, -0.0722, -0.1253, -0.1866, -0.1987, -0.1570, -0.0874],\n",
       "          [ 0.0081, -0.0074, -0.0466, -0.1116, -0.1506, -0.1441, -0.0992],\n",
       "          [ 0.0528,  0.0757,  0.0748,  0.0267, -0.0414, -0.0701, -0.0672],\n",
       "          [ 0.0859,  0.1378,  0.1594,  0.1480,  0.0943,  0.0539,  0.0218],\n",
       "          [ 0.0303,  0.0967,  0.1456,  0.1750,  0.1348,  0.0808,  0.0348],\n",
       "          [-0.0412,  0.0123,  0.0672,  0.1091,  0.0900,  0.0574,  0.0251]],\n",
       " \n",
       "         [[ 0.0098, -0.0264, -0.0611, -0.0927, -0.0793, -0.0305,  0.0160],\n",
       "          [-0.0305, -0.0720, -0.1226, -0.1799, -0.1922, -0.1552, -0.0930],\n",
       "          [ 0.0037, -0.0125, -0.0501, -0.1146, -0.1514, -0.1461, -0.1066],\n",
       "          [ 0.0445,  0.0645,  0.0621,  0.0136, -0.0523, -0.0786, -0.0754],\n",
       "          [ 0.0775,  0.1267,  0.1477,  0.1328,  0.0807,  0.0389,  0.0107],\n",
       "          [ 0.0302,  0.0942,  0.1440,  0.1653,  0.1256,  0.0703,  0.0278],\n",
       "          [-0.0301,  0.0244,  0.0811,  0.1150,  0.0948,  0.0569,  0.0248]]],\n",
       "        device='cuda:0'),\n",
       " tensor([[[ 0.0174, -0.0063, -0.0380, -0.0682, -0.0581, -0.0089,  0.0340],\n",
       "          [-0.0154, -0.0424, -0.0862, -0.1375, -0.1518, -0.1141, -0.0547],\n",
       "          [ 0.0150,  0.0106, -0.0187, -0.0729, -0.1099, -0.1025, -0.0660],\n",
       "          [ 0.0463,  0.0699,  0.0720,  0.0330, -0.0268, -0.0492, -0.0463],\n",
       "          [ 0.0625,  0.1078,  0.1262,  0.1170,  0.0724,  0.0431,  0.0202],\n",
       "          [ 0.0077,  0.0612,  0.1014,  0.1286,  0.0966,  0.0570,  0.0223],\n",
       "          [-0.0597, -0.0169,  0.0294,  0.0671,  0.0528,  0.0344,  0.0115]],\n",
       " \n",
       "         [[ 0.0122, -0.0237, -0.0598, -0.0970, -0.0814, -0.0286,  0.0210],\n",
       "          [-0.0292, -0.0722, -0.1253, -0.1866, -0.1987, -0.1570, -0.0874],\n",
       "          [ 0.0081, -0.0074, -0.0466, -0.1116, -0.1506, -0.1441, -0.0992],\n",
       "          [ 0.0528,  0.0757,  0.0748,  0.0267, -0.0414, -0.0701, -0.0672],\n",
       "          [ 0.0859,  0.1378,  0.1594,  0.1480,  0.0943,  0.0539,  0.0218],\n",
       "          [ 0.0303,  0.0967,  0.1456,  0.1750,  0.1348,  0.0808,  0.0348],\n",
       "          [-0.0412,  0.0123,  0.0672,  0.1091,  0.0900,  0.0574,  0.0251]],\n",
       " \n",
       "         [[ 0.0098, -0.0264, -0.0611, -0.0927, -0.0793, -0.0305,  0.0160],\n",
       "          [-0.0305, -0.0720, -0.1226, -0.1799, -0.1922, -0.1552, -0.0930],\n",
       "          [ 0.0037, -0.0125, -0.0501, -0.1146, -0.1514, -0.1461, -0.1066],\n",
       "          [ 0.0445,  0.0645,  0.0621,  0.0136, -0.0523, -0.0786, -0.0754],\n",
       "          [ 0.0775,  0.1267,  0.1477,  0.1328,  0.0807,  0.0389,  0.0107],\n",
       "          [ 0.0302,  0.0942,  0.1440,  0.1653,  0.1256,  0.0703,  0.0278],\n",
       "          [-0.0301,  0.0244,  0.0811,  0.1150,  0.0948,  0.0569,  0.0248]]],\n",
       "        device='cuda:0'))"
      ]
     },
     "execution_count": 50,
     "metadata": {},
     "output_type": "execute_result"
    }
   ],
   "source": [
    "state[\"model\"][\"module.model.conv1.weight\"][0], state[\"model\"][\"module.attacker.model.conv1.weight\"][0]"
   ]
  },
  {
   "cell_type": "code",
   "execution_count": 29,
   "metadata": {},
   "outputs": [],
   "source": [
    "class InputNormalize(torch.nn.Module):\n",
    "    '''\n",
    "    A module (custom layer) for normalizing the input to have a fixed \n",
    "    mean and standard deviation (user-specified).\n",
    "    '''\n",
    "    def __init__(self, new_mean, new_std):\n",
    "        super(InputNormalize, self).__init__()\n",
    "\n",
    "        self.register_buffer(\"new_mean\", new_mean)\n",
    "        self.register_buffer(\"new_std\", new_std)\n",
    "\n",
    "    def forward(self, x):\n",
    "        x = torch.clamp(x, 0, 1)\n",
    "        x_normalized = (x - self.new_mean)/self.new_std\n",
    "        return x_normalized\n",
    "    \n",
    "\n",
    "class RobustModel(torch.nn.Module):\n",
    "\n",
    "    def __init__(self, model):\n",
    "        super(RobustModel, self).__init__()\n",
    "        self.normalizer = InputNormalize(torch.zeros((3,1,1)), torch.zeros((3,1,1)))\n",
    "        self.model = model\n",
    "\n",
    "    def forward(self, inp):\n",
    "        normalized_inp = self.normalizer(inp)\n",
    "        output = self.model(normalized_inp)\n",
    "        return output"
   ]
  }
 ],
 "metadata": {
  "kernelspec": {
   "display_name": "py38",
   "language": "python",
   "name": "python3"
  },
  "language_info": {
   "codemirror_mode": {
    "name": "ipython",
    "version": 3
   },
   "file_extension": ".py",
   "mimetype": "text/x-python",
   "name": "python",
   "nbconvert_exporter": "python",
   "pygments_lexer": "ipython3",
   "version": "3.8.13"
  },
  "orig_nbformat": 4
 },
 "nbformat": 4,
 "nbformat_minor": 2
}
