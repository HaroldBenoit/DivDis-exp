{
 "cells": [
  {
   "cell_type": "code",
   "execution_count": 9,
   "metadata": {},
   "outputs": [
    {
     "name": "stdout",
     "output_type": "stream",
     "text": [
      "METHOD                        \tTEST_ACC        TEST_ACC_STD\n",
      "camelyon                      \t0.896              0.020\n",
      "camelyon_np                   \t0.866              0.012\n",
      "resnet_camelyon               \t0.919              0.013\n",
      "resnet_np_camelyon            \t0.800              0.138\n"
     ]
    }
   ],
   "source": [
    "import json\n",
    "import numpy as np\n",
    "import matplotlib.pyplot as plt\n",
    "import pandas as pd\n",
    "import torch\n",
    "\n",
    "from collections import defaultdict\n",
    "import os.path as osp\n",
    "from typing import Union, Dict, List\n",
    "\n",
    "filenames=[\"camelyon\", \"camelyon_np\", \"resnet_camelyon\", \"resnet_np_camelyon\"]\n",
    "res_path = \"../logs/\"\n",
    "\n",
    "res = defaultdict(list)\n",
    "\n",
    "print(f\"{'METHOD':<30}\\tTEST_ACC        TEST_ACC_STD\")\n",
    "\n",
    "for filename in filenames:\n",
    "\n",
    "    filename_complete = osp.join(res_path, f\"{filename}_results.json\")\n",
    "\n",
    "    with open(filename_complete) as f:\n",
    "        logs=json.load(f)\n",
    "        test_acc = logs[\"test\"][\"acc_avg\"]\n",
    "        test_acc_std = logs[\"test\"][\"acc_avg_std\"]\n",
    "        print(f\"{filename:<30}\\t{test_acc:.3f}              {test_acc_std:.3f}\")\n"
   ]
  }
 ],
 "metadata": {
  "kernelspec": {
   "display_name": "py38",
   "language": "python",
   "name": "python3"
  },
  "language_info": {
   "codemirror_mode": {
    "name": "ipython",
    "version": 3
   },
   "file_extension": ".py",
   "mimetype": "text/x-python",
   "name": "python",
   "nbconvert_exporter": "python",
   "pygments_lexer": "ipython3",
   "version": "3.8.13"
  },
  "orig_nbformat": 4
 },
 "nbformat": 4,
 "nbformat_minor": 2
}
